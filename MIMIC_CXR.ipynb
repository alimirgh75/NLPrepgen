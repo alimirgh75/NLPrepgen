{
 "cells": [
  {
   "cell_type": "code",
   "execution_count": 1,
   "metadata": {},
   "outputs": [
    {
     "name": "stderr",
     "output_type": "stream",
     "text": [
      "/home/mir/.local/lib/python3.6/site-packages/tqdm/auto.py:22: TqdmWarning: IProgress not found. Please update jupyter and ipywidgets. See https://ipywidgets.readthedocs.io/en/stable/user_install.html\n",
      "  from .autonotebook import tqdm as notebook_tqdm\n",
      "Downloading: 100%|██████████| 659/659 [00:00<00:00, 412kB/s]\n",
      "Explicitly passing a `revision` is encouraged when loading a model with custom code to ensure no malicious code has been contributed in a newer revision.\n",
      "Downloading: 100%|██████████| 889/889 [00:00<00:00, 782kB/s]\n",
      "Downloading: 100%|██████████| 230k/230k [00:00<00:00, 608kB/s] \n",
      "Downloading: 100%|██████████| 112/112 [00:00<00:00, 68.7kB/s]\n",
      "Downloading: 100%|██████████| 843/843 [00:00<00:00, 522kB/s]\n",
      "Explicitly passing a `revision` is encouraged when loading a configuration with custom code to ensure no malicious code has been contributed in a newer revision.\n",
      "Explicitly passing a `revision` is encouraged when loading a model with custom code to ensure no malicious code has been contributed in a newer revision.\n",
      "Downloading: 100%|██████████| 5.62k/5.62k [00:00<00:00, 4.26MB/s]\n",
      "Downloading: 100%|██████████| 418M/418M [00:05<00:00, 78.3MB/s] \n"
     ]
    }
   ],
   "source": [
    "import torch\n",
    "from transformers import AutoModel, AutoTokenizer\n",
    "\n",
    "# Load the model and tokenizerwwwwwwww\n",
    "url = \"microsoft/BiomedVLP-CXR-BERT-specialized\"\n",
    "tokenizer = AutoTokenizer.from_pretrained(url, trust_remote_code=True)\n",
    "model = AutoModel.from_pretrained(url, trust_remote_code=True)\n",
    "\n",
    "# Input text prompts (e.g., reference, synonym, contradiction)\n",
    "text_prompts = [\"There is no pneumothorax or pleural effusion\",\n",
    "                \"No pleural effusion or pneumothorax is seen\",\n",
    "                \"The extent of the pleural effusion is constant.\"]\n",
    "\n",
    "# Tokenize and compute the sentence embeddings\n",
    "tokenizer_output = tokenizer.batch_encode_plus(batch_text_or_text_pairs=text_prompts,\n",
    "                                               add_special_tokens=True,\n",
    "                                               padding='longest',\n",
    "                                               return_tensors='pt')\n",
    "embeddings = model.get_projected_text_embeddings(input_ids=tokenizer_output.input_ids,\n",
    "                                                 attention_mask=tokenizer_output.attention_mask)\n",
    "\n",
    "# Compute the cosine similarity of sentence embeddings obtained from input text prompts.\n",
    "sim = torch.mm(embeddings, embeddings.t())\n"
   ]
  }
 ],
 "metadata": {
  "interpreter": {
   "hash": "31f2aee4e71d21fbe5cf8b01ff0e069b9275f58929596ceb00d14d90e3e16cd6"
  },
  "kernelspec": {
   "display_name": "Python 3.6.9 64-bit",
   "language": "python",
   "name": "python3"
  },
  "language_info": {
   "codemirror_mode": {
    "name": "ipython",
    "version": 3
   },
   "file_extension": ".py",
   "mimetype": "text/x-python",
   "name": "python",
   "nbconvert_exporter": "python",
   "pygments_lexer": "ipython3",
   "version": "3.6.9"
  },
  "orig_nbformat": 4
 },
 "nbformat": 4,
 "nbformat_minor": 2
}
